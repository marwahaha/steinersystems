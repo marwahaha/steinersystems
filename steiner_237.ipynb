{
 "cells": [
  {
   "cell_type": "code",
   "execution_count": 1,
   "metadata": {},
   "outputs": [],
   "source": [
    "import itertools\n",
    "from scipy.special import comb\n",
    "import numpy as np\n",
    "from collections import Counter"
   ]
  },
  {
   "cell_type": "code",
   "execution_count": 6,
   "metadata": {},
   "outputs": [],
   "source": [
    "t = 2\n",
    "k = t+1\n",
    "v = 7\n",
    "b = int(comb(v, t) / (t+1)) # when k = t+1\n",
    "lambda_2 = 1 # when t = 2\n",
    "lambda_1 = int(b*k/v)"
   ]
  },
  {
   "cell_type": "code",
   "execution_count": 7,
   "metadata": {},
   "outputs": [
    {
     "name": "stdout",
     "output_type": "stream",
     "text": [
      "CPU times: user 12 µs, sys: 7 µs, total: 19 µs\n",
      "Wall time: 22.9 µs\n"
     ]
    }
   ],
   "source": [
    "%%time\n",
    "combs = list ( itertools.combinations(range(1, 1+v), k) )"
   ]
  },
  {
   "cell_type": "code",
   "execution_count": 11,
   "metadata": {},
   "outputs": [
    {
     "name": "stdout",
     "output_type": "stream",
     "text": [
      "CPU times: user 793 ms, sys: 227 ms, total: 1.02 s\n",
      "Wall time: 1.01 s\n"
     ]
    }
   ],
   "source": [
    "%%time\n",
    "opts = list(itertools.combinations(combs, b))"
   ]
  },
  {
   "cell_type": "code",
   "execution_count": 12,
   "metadata": {},
   "outputs": [
    {
     "name": "stdout",
     "output_type": "stream",
     "text": [
      "CPU times: user 17.1 s, sys: 140 ms, total: 17.3 s\n",
      "Wall time: 17.2 s\n"
     ]
    }
   ],
   "source": [
    "%%time\n",
    "opts = np.array(opts)"
   ]
  },
  {
   "cell_type": "code",
   "execution_count": 13,
   "metadata": {},
   "outputs": [
    {
     "data": {
      "text/plain": [
       "array([[1, 2, 3],\n",
       "       [1, 2, 4],\n",
       "       [1, 2, 5],\n",
       "       [1, 2, 6],\n",
       "       [1, 2, 7],\n",
       "       [1, 3, 4],\n",
       "       [1, 3, 5]])"
      ]
     },
     "execution_count": 13,
     "metadata": {},
     "output_type": "execute_result"
    }
   ],
   "source": [
    "opts[0]"
   ]
  },
  {
   "cell_type": "markdown",
   "metadata": {},
   "source": [
    "## Third attempt\n",
    "\n",
    "Split out balance check"
   ]
  },
  {
   "cell_type": "code",
   "execution_count": 14,
   "metadata": {},
   "outputs": [
    {
     "name": "stdout",
     "output_type": "stream",
     "text": [
      "CPU times: user 14.3 s, sys: 6.75 s, total: 21.1 s\n",
      "Wall time: 9.53 s\n"
     ]
    }
   ],
   "source": [
    "%%time\n",
    "xs = [np.sum(np.array(opts) == i, axis=2) for i in range(1, 1+v)]"
   ]
  },
  {
   "cell_type": "code",
   "execution_count": 15,
   "metadata": {},
   "outputs": [
    {
     "name": "stdout",
     "output_type": "stream",
     "text": [
      "(6724520, 7)\n",
      "(2204475, 7)\n",
      "(721725, 7)\n",
      "(237763, 7)\n",
      "(79842, 7)\n",
      "(28055, 7)\n",
      "(11205, 7)\n"
     ]
    }
   ],
   "source": [
    "for i in range(v):\n",
    "    print(xs[0].shape)\n",
    "    mask = np.sum(xs[i] == 1, axis=1) == lambda_1\n",
    "    xs = [x[mask, ] for x in xs]"
   ]
  },
  {
   "cell_type": "code",
   "execution_count": 16,
   "metadata": {},
   "outputs": [
    {
     "name": "stdout",
     "output_type": "stream",
     "text": [
      "(11205, 7)\n",
      "(6675, 7)\n",
      "(4005, 7)\n",
      "(2442, 7)\n",
      "(1557, 7)\n",
      "(1125, 7)\n",
      "(1125, 7)\n",
      "(639, 7)\n",
      "(360, 7)\n",
      "(207, 7)\n",
      "(135, 7)\n",
      "(135, 7)\n",
      "(90, 7)\n",
      "(63, 7)\n",
      "(51, 7)\n",
      "(51, 7)\n",
      "(36, 7)\n",
      "(30, 7)\n",
      "(30, 7)\n",
      "(30, 7)\n",
      "(30, 7)\n"
     ]
    }
   ],
   "source": [
    "ij_opts = list(itertools.combinations(range(v), 2))\n",
    "for i, j in ij_opts:\n",
    "    print(xs[0].shape)\n",
    "    mask = np.sum(xs[i] + xs[j] == 2, axis=1) == lambda_2\n",
    "    xs = [x[mask, ] for x in xs]"
   ]
  },
  {
   "cell_type": "markdown",
   "metadata": {},
   "source": [
    "## Second attempt\n",
    "\n",
    "Just check pairs immediately with numpy"
   ]
  },
  {
   "cell_type": "code",
   "execution_count": 16,
   "metadata": {},
   "outputs": [
    {
     "name": "stdout",
     "output_type": "stream",
     "text": [
      "CPU times: user 16.9 s, sys: 110 ms, total: 17 s\n",
      "Wall time: 16.9 s\n"
     ]
    }
   ],
   "source": [
    "%%time\n",
    "opts = np.array(opts)"
   ]
  },
  {
   "cell_type": "code",
   "execution_count": 17,
   "metadata": {},
   "outputs": [
    {
     "name": "stdout",
     "output_type": "stream",
     "text": [
      "CPU times: user 13.9 s, sys: 7.06 s, total: 21 s\n",
      "Wall time: 9.01 s\n"
     ]
    }
   ],
   "source": [
    "%%time\n",
    "xs = [np.sum(np.array(opts) == i, axis=2) for i in range(1, 1+v)]"
   ]
  },
  {
   "cell_type": "code",
   "execution_count": 18,
   "metadata": {},
   "outputs": [],
   "source": [
    "ij_opts = list(itertools.combinations(range(v), 2))"
   ]
  },
  {
   "cell_type": "code",
   "execution_count": 19,
   "metadata": {},
   "outputs": [
    {
     "name": "stdout",
     "output_type": "stream",
     "text": [
      "(6724520, 7)\n",
      "(2968875, 7)\n",
      "(1282710, 7)\n",
      "(541926, 7)\n",
      "(225967, 7)\n",
      "(84265, 7)\n",
      "(72675, 7)\n",
      "(32340, 7)\n",
      "(14040, 7)\n",
      "(5973, 7)\n",
      "(2328, 7)\n",
      "(2025, 7)\n",
      "(882, 7)\n",
      "(371, 7)\n",
      "(144, 7)\n",
      "(123, 7)\n",
      "(60, 7)\n",
      "(30, 7)\n",
      "(30, 7)\n",
      "(30, 7)\n",
      "(30, 7)\n"
     ]
    }
   ],
   "source": [
    "for i, j in ij_opts:\n",
    "    print(xs[0].shape)\n",
    "    mask = np.sum(xs[i] + xs[j] == 2, axis=1) == 1\n",
    "    xs = [x[mask, ] for x in xs]"
   ]
  },
  {
   "cell_type": "markdown",
   "metadata": {},
   "source": [
    "## First attempt\n",
    "\n",
    "Make sure all numbers are balanced with counters"
   ]
  },
  {
   "cell_type": "code",
   "execution_count": 14,
   "metadata": {},
   "outputs": [],
   "source": [
    "# first attempt: Counters\n",
    "# corr = []\n",
    "# for idx, o in enumerate(opts):\n",
    "#     if idx % 100000 == 0:\n",
    "#         print(idx)\n",
    "#     c = sum([Counter(i) for i in o], Counter())\n",
    "#     if len(set(c.values())) == 1:\n",
    "#         corr.append(o)"
   ]
  },
  {
   "cell_type": "code",
   "execution_count": 15,
   "metadata": {},
   "outputs": [],
   "source": [
    "# go through combinations \n",
    "# good = []\n",
    "# ij_opts = list(itertools.combinations(range(7), 2))\n",
    "# for c in corr:\n",
    "#     c_np = np.array(c)\n",
    "#     ps = [np.sum(c_np == i, axis=1) for i in range(1, 1+7)]\n",
    "#     ok = True\n",
    "#     for i, j in ij_opts:\n",
    "#         if sum(ps[i] + ps[j] == 2) != 1:\n",
    "#             ok = False\n",
    "#             break\n",
    "\n",
    "#     if ok:\n",
    "#         good.append(c)\n",
    "# print(len(good))"
   ]
  },
  {
   "cell_type": "markdown",
   "metadata": {},
   "source": [
    "To check the pairs"
   ]
  },
  {
   "cell_type": "code",
   "execution_count": 226,
   "metadata": {},
   "outputs": [
    {
     "name": "stdout",
     "output_type": "stream",
     "text": [
      "(11205, 7)\n",
      "(6675, 7)\n",
      "(4005, 7)\n",
      "(2442, 7)\n",
      "(1557, 7)\n",
      "(1125, 7)\n",
      "(1125, 7)\n",
      "(639, 7)\n",
      "(360, 7)\n",
      "(207, 7)\n",
      "(135, 7)\n",
      "(135, 7)\n",
      "(90, 7)\n",
      "(63, 7)\n",
      "(51, 7)\n",
      "(51, 7)\n",
      "(36, 7)\n",
      "(30, 7)\n",
      "(30, 7)\n",
      "(30, 7)\n",
      "(30, 7)\n"
     ]
    }
   ],
   "source": [
    "xs = [np.sum(np.array(corr) == i, axis=2) for i in range(1, 1+7)]\n",
    "for i, j in ij_opts:\n",
    "    print(xs[0].shape)\n",
    "    mask = np.sum(xs[i] + xs[j] == 2, axis=1) == 1\n",
    "    xs = [x[mask, ] for x in xs]"
   ]
  }
 ],
 "metadata": {
  "kernelspec": {
   "display_name": "Python 3",
   "language": "python",
   "name": "python3"
  },
  "language_info": {
   "codemirror_mode": {
    "name": "ipython",
    "version": 3
   },
   "file_extension": ".py",
   "mimetype": "text/x-python",
   "name": "python",
   "nbconvert_exporter": "python",
   "pygments_lexer": "ipython3",
   "version": "3.7.4"
  }
 },
 "nbformat": 4,
 "nbformat_minor": 4
}
