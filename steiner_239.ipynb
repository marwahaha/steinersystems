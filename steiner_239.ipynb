{
 "cells": [
  {
   "cell_type": "code",
   "execution_count": 3,
   "metadata": {},
   "outputs": [],
   "source": [
    "import itertools\n",
    "from scipy.special import comb\n",
    "import numpy as np\n",
    "from collections import Counter\n",
    "import math"
   ]
  },
  {
   "cell_type": "code",
   "execution_count": 4,
   "metadata": {},
   "outputs": [
    {
     "name": "stdout",
     "output_type": "stream",
     "text": [
      "12 1 4\n"
     ]
    }
   ],
   "source": [
    "t = 2\n",
    "k = t+1\n",
    "v = 9\n",
    "b = int(comb(v, t) / (t+1)) # when k = t+1\n",
    "lambda_2 = 1 # when t = 2\n",
    "lambda_1 = int(b*k/v)\n",
    "print(b, lambda_2, lambda_1)"
   ]
  },
  {
   "cell_type": "code",
   "execution_count": 5,
   "metadata": {},
   "outputs": [
    {
     "name": "stdout",
     "output_type": "stream",
     "text": [
      "CPU times: user 9 µs, sys: 7 µs, total: 16 µs\n",
      "Wall time: 19.6 µs\n"
     ]
    }
   ],
   "source": [
    "%%time\n",
    "combs = list ( itertools.combinations(range(1, 1+v), k) )"
   ]
  },
  {
   "cell_type": "code",
   "execution_count": 6,
   "metadata": {},
   "outputs": [
    {
     "data": {
      "text/plain": [
       "112992892764569"
      ]
     },
     "execution_count": 6,
     "metadata": {},
     "output_type": "execute_result"
    }
   ],
   "source": [
    "int(comb(int(comb(v, k)), b))"
   ]
  },
  {
   "cell_type": "markdown",
   "metadata": {},
   "source": [
    "what about building up iteratively?"
   ]
  },
  {
   "cell_type": "code",
   "execution_count": 7,
   "metadata": {},
   "outputs": [],
   "source": [
    "# choose lambda_1 of 1s...\n",
    "# then count 2s, add enough until reach lambda_1 of 2s...\n",
    "# if too many, then remove them from the list.\n",
    "# repeat until v"
   ]
  },
  {
   "cell_type": "code",
   "execution_count": 8,
   "metadata": {},
   "outputs": [],
   "source": [
    "combs = np.array(combs)"
   ]
  },
  {
   "cell_type": "code",
   "execution_count": 9,
   "metadata": {},
   "outputs": [
    {
     "name": "stdout",
     "output_type": "stream",
     "text": [
      "1 28\n",
      "2 21\n",
      "3 15\n",
      "4 10\n",
      "5 6\n",
      "6 3\n",
      "7 1\n",
      "8 0\n",
      "9 0\n"
     ]
    }
   ],
   "source": [
    "to_choose = []\n",
    "for i in range(1, v+1):\n",
    "    vals = combs[np.any(combs == i, axis=1)]\n",
    "    vals = vals[np.all(vals >= i, axis=1)]\n",
    "    print(i, len(vals))\n",
    "    to_choose.append(vals)"
   ]
  },
  {
   "cell_type": "code",
   "execution_count": 10,
   "metadata": {},
   "outputs": [
    {
     "name": "stdout",
     "output_type": "stream",
     "text": [
      "28 4\n",
      "20475.0\n",
      "105\n"
     ]
    }
   ],
   "source": [
    "print(len(to_choose[0]), lambda_1)\n",
    "print(comb(len(to_choose[0]), lambda_1))\n",
    "with_1s = np.array(list(itertools.combinations(to_choose[0], lambda_1)))\n",
    "for i in range(2, v+1):\n",
    "    mask = np.sum(np.any(with_1s == i, axis=2), axis=1) == lambda_2\n",
    "    with_1s = with_1s[mask]\n",
    "print(len(with_1s))"
   ]
  },
  {
   "cell_type": "code",
   "execution_count": 11,
   "metadata": {},
   "outputs": [
    {
     "name": "stdout",
     "output_type": "stream",
     "text": [
      "1330\n",
      "105\n"
     ]
    }
   ],
   "source": [
    "plus_2s = np.array(list(itertools.combinations(to_choose[1], lambda_1 - lambda_2)))\n",
    "print(len(plus_2s))\n",
    "for i in range(3, v+1):\n",
    "    mask = np.sum(np.any(plus_2s == i, axis=2), axis=1) <= lambda_2\n",
    "    plus_2s = plus_2s[mask]\n",
    "print(len(plus_2s))"
   ]
  },
  {
   "cell_type": "code",
   "execution_count": 12,
   "metadata": {},
   "outputs": [],
   "source": [
    "with_2s = np.array([np.concatenate(i) for i in itertools.product(with_1s, plus_2s)])"
   ]
  },
  {
   "cell_type": "code",
   "execution_count": 13,
   "metadata": {},
   "outputs": [
    {
     "data": {
      "text/plain": [
       "11025"
      ]
     },
     "execution_count": 13,
     "metadata": {},
     "output_type": "execute_result"
    }
   ],
   "source": [
    "len(with_2s)"
   ]
  },
  {
   "cell_type": "code",
   "execution_count": 14,
   "metadata": {},
   "outputs": [
    {
     "name": "stdout",
     "output_type": "stream",
     "text": [
      "1575\n"
     ]
    }
   ],
   "source": [
    "for i in range(3, v+1):\n",
    "    mask = np.sum(np.sum(with_2s == 2, axis=2) + np.sum(with_2s == i, axis=2) == 2, axis=1) == 1\n",
    "    with_2s = with_2s[mask]\n",
    "print(len(with_2s))"
   ]
  },
  {
   "cell_type": "code",
   "execution_count": 15,
   "metadata": {},
   "outputs": [
    {
     "name": "stdout",
     "output_type": "stream",
     "text": [
      "840\n"
     ]
    }
   ],
   "source": [
    "for i in range(3, v+1):\n",
    "    for j in range(i+1, v+1):\n",
    "        mask = np.sum(np.sum(with_2s == i, axis=2) + np.sum(with_2s == j, axis=2) == 2, axis=1) <= 1\n",
    "        with_2s = with_2s[mask]\n",
    "print(len(with_2s))"
   ]
  },
  {
   "cell_type": "code",
   "execution_count": 16,
   "metadata": {},
   "outputs": [
    {
     "data": {
      "text/plain": [
       "array([[1, 2, 3],\n",
       "       [1, 4, 5],\n",
       "       [1, 6, 7],\n",
       "       [1, 8, 9],\n",
       "       [2, 4, 6],\n",
       "       [2, 5, 8],\n",
       "       [2, 7, 9]])"
      ]
     },
     "execution_count": 16,
     "metadata": {},
     "output_type": "execute_result"
    }
   ],
   "source": [
    "with_2s[0]"
   ]
  },
  {
   "cell_type": "code",
   "execution_count": 17,
   "metadata": {},
   "outputs": [],
   "source": [
    "# guess: the first one will work..."
   ]
  },
  {
   "cell_type": "code",
   "execution_count": 18,
   "metadata": {},
   "outputs": [
    {
     "name": "stdout",
     "output_type": "stream",
     "text": [
      "5\n"
     ]
    }
   ],
   "source": [
    "num_remaining = b - 2*lambda_1 + 1\n",
    "print(num_remaining)"
   ]
  },
  {
   "cell_type": "code",
   "execution_count": 19,
   "metadata": {},
   "outputs": [],
   "source": [
    "remaining_opts = [item for sublist in to_choose[2:] for item in sublist]"
   ]
  },
  {
   "cell_type": "code",
   "execution_count": 20,
   "metadata": {},
   "outputs": [
    {
     "data": {
      "text/plain": [
       "35"
      ]
     },
     "execution_count": 20,
     "metadata": {},
     "output_type": "execute_result"
    }
   ],
   "source": [
    "len(remaining_opts)"
   ]
  },
  {
   "cell_type": "code",
   "execution_count": 21,
   "metadata": {},
   "outputs": [
    {
     "name": "stdout",
     "output_type": "stream",
     "text": [
      "1050\n"
     ]
    }
   ],
   "source": [
    "remainders = np.array(list(itertools.combinations(remaining_opts, num_remaining)))\n",
    "for i in range(3, v+1):\n",
    "    for j in range(i+1, v+1):\n",
    "        mask = np.sum(np.sum(remainders == i, axis=2) + np.sum(remainders == j, axis=2) == 2, axis=1) <= 1\n",
    "        remainders = remainders[mask]\n",
    "print(len(remainders))"
   ]
  },
  {
   "cell_type": "code",
   "execution_count": 22,
   "metadata": {},
   "outputs": [
    {
     "data": {
      "text/plain": [
       "array([[3, 4, 5],\n",
       "       [3, 6, 7],\n",
       "       [3, 8, 9],\n",
       "       [4, 6, 8],\n",
       "       [4, 7, 9]])"
      ]
     },
     "execution_count": 22,
     "metadata": {},
     "output_type": "execute_result"
    }
   ],
   "source": [
    "remainders[0]"
   ]
  },
  {
   "cell_type": "code",
   "execution_count": 23,
   "metadata": {},
   "outputs": [],
   "source": [
    "to_test = np.array([np.concatenate(i) for i in itertools.product(with_2s, remainders)])"
   ]
  },
  {
   "cell_type": "code",
   "execution_count": 24,
   "metadata": {},
   "outputs": [
    {
     "name": "stdout",
     "output_type": "stream",
     "text": [
      "882000\n"
     ]
    }
   ],
   "source": [
    "print(len(to_test))"
   ]
  },
  {
   "cell_type": "code",
   "execution_count": 25,
   "metadata": {},
   "outputs": [
    {
     "data": {
      "text/plain": [
       "array([[1, 2, 3],\n",
       "       [1, 4, 5],\n",
       "       [1, 6, 7],\n",
       "       [1, 8, 9],\n",
       "       [2, 4, 6],\n",
       "       [2, 5, 8],\n",
       "       [2, 7, 9],\n",
       "       [3, 4, 5],\n",
       "       [3, 6, 7],\n",
       "       [3, 8, 9],\n",
       "       [4, 6, 8],\n",
       "       [4, 7, 9]])"
      ]
     },
     "execution_count": 25,
     "metadata": {},
     "output_type": "execute_result"
    }
   ],
   "source": [
    "to_test[0]"
   ]
  },
  {
   "cell_type": "code",
   "execution_count": 26,
   "metadata": {},
   "outputs": [
    {
     "name": "stdout",
     "output_type": "stream",
     "text": [
      "840\n"
     ]
    }
   ],
   "source": [
    "for i in range(1, v+1):\n",
    "    for j in range(i+1, v+1):\n",
    "        mask = np.sum(np.sum(to_test == i, axis=2) + np.sum(to_test == j, axis=2) == 2, axis=1) == lambda_2\n",
    "        to_test = to_test[mask]\n",
    "print(len(to_test))"
   ]
  },
  {
   "cell_type": "code",
   "execution_count": 27,
   "metadata": {},
   "outputs": [
    {
     "data": {
      "text/plain": [
       "array([[1, 2, 3],\n",
       "       [1, 4, 5],\n",
       "       [1, 6, 7],\n",
       "       [1, 8, 9],\n",
       "       [2, 4, 6],\n",
       "       [2, 5, 8],\n",
       "       [2, 7, 9],\n",
       "       [3, 4, 9],\n",
       "       [3, 5, 7],\n",
       "       [3, 6, 8],\n",
       "       [4, 7, 8],\n",
       "       [5, 6, 9]])"
      ]
     },
     "execution_count": 27,
     "metadata": {},
     "output_type": "execute_result"
    }
   ],
   "source": [
    "to_test[0]"
   ]
  },
  {
   "cell_type": "code",
   "execution_count": 28,
   "metadata": {},
   "outputs": [],
   "source": [
    "# you have 3 1's\n",
    "# you have 3 2's\n",
    "# you have 1 or 2 3's but you need 3 = lambda_1 .. o "
   ]
  },
  {
   "cell_type": "markdown",
   "metadata": {},
   "source": [
    "## another attempt: random"
   ]
  },
  {
   "cell_type": "code",
   "execution_count": 139,
   "metadata": {},
   "outputs": [],
   "source": [
    "import random"
   ]
  },
  {
   "cell_type": "code",
   "execution_count": 146,
   "metadata": {},
   "outputs": [],
   "source": [
    "tests = [random.sample(combs, b) for _ in range(200000)]"
   ]
  },
  {
   "cell_type": "code",
   "execution_count": 147,
   "metadata": {},
   "outputs": [
    {
     "name": "stdout",
     "output_type": "stream",
     "text": [
      "CPU times: user 7.78 s, sys: 67.9 ms, total: 7.85 s\n",
      "Wall time: 7.84 s\n"
     ]
    }
   ],
   "source": [
    "%%time\n",
    "xs = [np.sum(np.array(tests) == i, axis=2) for i in range(1, 1+v)]"
   ]
  },
  {
   "cell_type": "code",
   "execution_count": 148,
   "metadata": {},
   "outputs": [
    {
     "name": "stdout",
     "output_type": "stream",
     "text": [
      "(200000, 12)\n",
      "(51652, 12)\n",
      "(13123, 12)\n",
      "(3345, 12)\n",
      "(880, 12)\n",
      "(212, 12)\n",
      "(69, 12)\n",
      "(22, 12)\n",
      "(9, 12)\n"
     ]
    }
   ],
   "source": [
    "for i in range(v):\n",
    "    print(xs[0].shape)\n",
    "    mask = np.sum(xs[i] == 1, axis=1) == lambda_1\n",
    "    xs = [x[mask, ] for x in xs]"
   ]
  },
  {
   "cell_type": "code",
   "execution_count": 149,
   "metadata": {},
   "outputs": [
    {
     "name": "stdout",
     "output_type": "stream",
     "text": [
      "(9, 12)\n",
      "(6, 12)\n",
      "(3, 12)\n",
      "(1, 12)\n",
      "(0, 12)\n",
      "(0, 12)\n",
      "(0, 12)\n",
      "(0, 12)\n",
      "(0, 12)\n",
      "(0, 12)\n",
      "(0, 12)\n",
      "(0, 12)\n",
      "(0, 12)\n",
      "(0, 12)\n",
      "(0, 12)\n",
      "(0, 12)\n",
      "(0, 12)\n",
      "(0, 12)\n",
      "(0, 12)\n",
      "(0, 12)\n",
      "(0, 12)\n",
      "(0, 12)\n",
      "(0, 12)\n",
      "(0, 12)\n",
      "(0, 12)\n",
      "(0, 12)\n",
      "(0, 12)\n",
      "(0, 12)\n",
      "(0, 12)\n",
      "(0, 12)\n",
      "(0, 12)\n",
      "(0, 12)\n",
      "(0, 12)\n",
      "(0, 12)\n",
      "(0, 12)\n",
      "(0, 12)\n"
     ]
    }
   ],
   "source": [
    "ij_opts = list(itertools.combinations(range(v), 2))\n",
    "for i, j in ij_opts:\n",
    "    print(xs[0].shape)\n",
    "    mask = np.sum(xs[i] + xs[j] == 2, axis=1) == lambda_2\n",
    "    xs = [x[mask, ] for x in xs]"
   ]
  },
  {
   "cell_type": "markdown",
   "metadata": {},
   "source": [
    "## Third attempt\n",
    "\n",
    "Split out balance check"
   ]
  },
  {
   "cell_type": "code",
   "execution_count": 14,
   "metadata": {},
   "outputs": [
    {
     "name": "stdout",
     "output_type": "stream",
     "text": [
      "CPU times: user 14.3 s, sys: 6.75 s, total: 21.1 s\n",
      "Wall time: 9.53 s\n"
     ]
    }
   ],
   "source": [
    "%%time\n",
    "xs = [np.sum(np.array(opts) == i, axis=2) for i in range(1, 1+v)]"
   ]
  },
  {
   "cell_type": "code",
   "execution_count": 15,
   "metadata": {},
   "outputs": [
    {
     "name": "stdout",
     "output_type": "stream",
     "text": [
      "(6724520, 7)\n",
      "(2204475, 7)\n",
      "(721725, 7)\n",
      "(237763, 7)\n",
      "(79842, 7)\n",
      "(28055, 7)\n",
      "(11205, 7)\n"
     ]
    }
   ],
   "source": [
    "for i in range(v):\n",
    "    print(xs[0].shape)\n",
    "    mask = np.sum(xs[i] == 1, axis=1) == lambda_1\n",
    "    xs = [x[mask, ] for x in xs]"
   ]
  },
  {
   "cell_type": "code",
   "execution_count": 16,
   "metadata": {},
   "outputs": [
    {
     "name": "stdout",
     "output_type": "stream",
     "text": [
      "(11205, 7)\n",
      "(6675, 7)\n",
      "(4005, 7)\n",
      "(2442, 7)\n",
      "(1557, 7)\n",
      "(1125, 7)\n",
      "(1125, 7)\n",
      "(639, 7)\n",
      "(360, 7)\n",
      "(207, 7)\n",
      "(135, 7)\n",
      "(135, 7)\n",
      "(90, 7)\n",
      "(63, 7)\n",
      "(51, 7)\n",
      "(51, 7)\n",
      "(36, 7)\n",
      "(30, 7)\n",
      "(30, 7)\n",
      "(30, 7)\n",
      "(30, 7)\n"
     ]
    }
   ],
   "source": [
    "ij_opts = list(itertools.combinations(range(v), 2))\n",
    "for i, j in ij_opts:\n",
    "    print(xs[0].shape)\n",
    "    mask = np.sum(xs[i] + xs[j] == 2, axis=1) == lambda_2\n",
    "    xs = [x[mask, ] for x in xs]"
   ]
  },
  {
   "cell_type": "markdown",
   "metadata": {},
   "source": [
    "## Second attempt\n",
    "\n",
    "Just check pairs immediately with numpy"
   ]
  },
  {
   "cell_type": "code",
   "execution_count": 16,
   "metadata": {},
   "outputs": [
    {
     "name": "stdout",
     "output_type": "stream",
     "text": [
      "CPU times: user 16.9 s, sys: 110 ms, total: 17 s\n",
      "Wall time: 16.9 s\n"
     ]
    }
   ],
   "source": [
    "%%time\n",
    "opts = np.array(opts)"
   ]
  },
  {
   "cell_type": "code",
   "execution_count": 17,
   "metadata": {},
   "outputs": [
    {
     "name": "stdout",
     "output_type": "stream",
     "text": [
      "CPU times: user 13.9 s, sys: 7.06 s, total: 21 s\n",
      "Wall time: 9.01 s\n"
     ]
    }
   ],
   "source": [
    "%%time\n",
    "xs = [np.sum(np.array(opts) == i, axis=2) for i in range(1, 1+v)]"
   ]
  },
  {
   "cell_type": "code",
   "execution_count": 18,
   "metadata": {},
   "outputs": [],
   "source": [
    "ij_opts = list(itertools.combinations(range(v), 2))"
   ]
  },
  {
   "cell_type": "code",
   "execution_count": 19,
   "metadata": {},
   "outputs": [
    {
     "name": "stdout",
     "output_type": "stream",
     "text": [
      "(6724520, 7)\n",
      "(2968875, 7)\n",
      "(1282710, 7)\n",
      "(541926, 7)\n",
      "(225967, 7)\n",
      "(84265, 7)\n",
      "(72675, 7)\n",
      "(32340, 7)\n",
      "(14040, 7)\n",
      "(5973, 7)\n",
      "(2328, 7)\n",
      "(2025, 7)\n",
      "(882, 7)\n",
      "(371, 7)\n",
      "(144, 7)\n",
      "(123, 7)\n",
      "(60, 7)\n",
      "(30, 7)\n",
      "(30, 7)\n",
      "(30, 7)\n",
      "(30, 7)\n"
     ]
    }
   ],
   "source": [
    "for i, j in ij_opts:\n",
    "    print(xs[0].shape)\n",
    "    mask = np.sum(xs[i] + xs[j] == 2, axis=1) == 1\n",
    "    xs = [x[mask, ] for x in xs]"
   ]
  },
  {
   "cell_type": "markdown",
   "metadata": {},
   "source": [
    "## First attempt\n",
    "\n",
    "Make sure all numbers are balanced with counters"
   ]
  },
  {
   "cell_type": "code",
   "execution_count": 14,
   "metadata": {},
   "outputs": [],
   "source": [
    "# first attempt: Counters\n",
    "# corr = []\n",
    "# for idx, o in enumerate(opts):\n",
    "#     if idx % 100000 == 0:\n",
    "#         print(idx)\n",
    "#     c = sum([Counter(i) for i in o], Counter())\n",
    "#     if len(set(c.values())) == 1:\n",
    "#         corr.append(o)"
   ]
  },
  {
   "cell_type": "code",
   "execution_count": 15,
   "metadata": {},
   "outputs": [],
   "source": [
    "# go through combinations \n",
    "# good = []\n",
    "# ij_opts = list(itertools.combinations(range(7), 2))\n",
    "# for c in corr:\n",
    "#     c_np = np.array(c)\n",
    "#     ps = [np.sum(c_np == i, axis=1) for i in range(1, 1+7)]\n",
    "#     ok = True\n",
    "#     for i, j in ij_opts:\n",
    "#         if sum(ps[i] + ps[j] == 2) != 1:\n",
    "#             ok = False\n",
    "#             break\n",
    "\n",
    "#     if ok:\n",
    "#         good.append(c)\n",
    "# print(len(good))"
   ]
  },
  {
   "cell_type": "markdown",
   "metadata": {},
   "source": [
    "To check the pairs"
   ]
  },
  {
   "cell_type": "code",
   "execution_count": 226,
   "metadata": {},
   "outputs": [
    {
     "name": "stdout",
     "output_type": "stream",
     "text": [
      "(11205, 7)\n",
      "(6675, 7)\n",
      "(4005, 7)\n",
      "(2442, 7)\n",
      "(1557, 7)\n",
      "(1125, 7)\n",
      "(1125, 7)\n",
      "(639, 7)\n",
      "(360, 7)\n",
      "(207, 7)\n",
      "(135, 7)\n",
      "(135, 7)\n",
      "(90, 7)\n",
      "(63, 7)\n",
      "(51, 7)\n",
      "(51, 7)\n",
      "(36, 7)\n",
      "(30, 7)\n",
      "(30, 7)\n",
      "(30, 7)\n",
      "(30, 7)\n"
     ]
    }
   ],
   "source": [
    "xs = [np.sum(np.array(corr) == i, axis=2) for i in range(1, 1+7)]\n",
    "for i, j in ij_opts:\n",
    "    print(xs[0].shape)\n",
    "    mask = np.sum(xs[i] + xs[j] == 2, axis=1) == 1\n",
    "    xs = [x[mask, ] for x in xs]"
   ]
  }
 ],
 "metadata": {
  "kernelspec": {
   "display_name": "Python 3",
   "language": "python",
   "name": "python3"
  },
  "language_info": {
   "codemirror_mode": {
    "name": "ipython",
    "version": 3
   },
   "file_extension": ".py",
   "mimetype": "text/x-python",
   "name": "python",
   "nbconvert_exporter": "python",
   "pygments_lexer": "ipython3",
   "version": "3.7.4"
  }
 },
 "nbformat": 4,
 "nbformat_minor": 4
}
