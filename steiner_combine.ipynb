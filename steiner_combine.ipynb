{
 "cells": [
  {
   "cell_type": "code",
   "execution_count": 5,
   "metadata": {},
   "outputs": [],
   "source": [
    "test = \"\"\"\n",
    "  1  2\n",
    "  3  4\n",
    "  5  6\n",
    "\"\"\""
   ]
  },
  {
   "cell_type": "code",
   "execution_count": 6,
   "metadata": {},
   "outputs": [],
   "source": [
    "import numpy as np\n",
    "import itertools"
   ]
  },
  {
   "cell_type": "code",
   "execution_count": 7,
   "metadata": {},
   "outputs": [],
   "source": [
    "smaller = np.array([[int(x) for x in line.strip().split()] for line in test.split('\\n') if line != ''])"
   ]
  },
  {
   "cell_type": "code",
   "execution_count": 8,
   "metadata": {},
   "outputs": [],
   "source": [
    "v = 7\n",
    "l = len(smaller)"
   ]
  },
  {
   "cell_type": "code",
   "execution_count": 9,
   "metadata": {},
   "outputs": [
    {
     "data": {
      "text/plain": [
       "array([[2, 3, 1],\n",
       "       [4, 5, 1],\n",
       "       [6, 7, 1],\n",
       "       [1, 3, 2],\n",
       "       [4, 5, 2],\n",
       "       [6, 7, 2],\n",
       "       [1, 2, 3],\n",
       "       [4, 5, 3],\n",
       "       [6, 7, 3],\n",
       "       [1, 2, 4],\n",
       "       [3, 5, 4],\n",
       "       [6, 7, 4],\n",
       "       [1, 2, 5],\n",
       "       [3, 4, 5],\n",
       "       [6, 7, 5],\n",
       "       [1, 2, 6],\n",
       "       [3, 4, 6],\n",
       "       [5, 7, 6],\n",
       "       [1, 2, 7],\n",
       "       [3, 4, 7],\n",
       "       [5, 6, 7]])"
      ]
     },
     "execution_count": 9,
     "metadata": {},
     "output_type": "execute_result"
    }
   ],
   "source": [
    "rows = []\n",
    "for i in range(1, v+1):\n",
    "    rows.append ( np.hstack( (smaller + (smaller >= i), [[i]]*l) ) )\n",
    "rows = np.concatenate(rows)\n",
    "# rows = np.sort(rows, axis=1)\n",
    "# rows = np.unique(rows, axis=0)\n",
    "rows"
   ]
  },
  {
   "cell_type": "code",
   "execution_count": 10,
   "metadata": {},
   "outputs": [
    {
     "name": "stdout",
     "output_type": "stream",
     "text": [
      "{1, 2} 7\n",
      "{1, 3} 3\n",
      "{1, 4} 2\n",
      "{1, 5} 2\n",
      "{1, 6} 2\n",
      "{1, 7} 2\n",
      "{2, 3} 3\n",
      "{2, 4} 2\n",
      "{2, 5} 2\n",
      "{2, 6} 2\n",
      "{2, 7} 2\n",
      "{3, 4} 5\n",
      "{3, 5} 3\n",
      "{3, 6} 2\n",
      "{3, 7} 2\n",
      "{4, 5} 5\n",
      "{4, 6} 2\n",
      "{4, 7} 2\n",
      "{5, 6} 3\n",
      "{5, 7} 3\n",
      "{6, 7} 7\n"
     ]
    }
   ],
   "source": [
    "k = 2\n",
    "sets = [set(i) for i in list(itertools.combinations(range(1, v+1), k))]\n",
    "for p in sets:\n",
    "    print(p, sum([len(p.intersection(r)) == k for r in rows]) )"
   ]
  },
  {
   "cell_type": "markdown",
   "metadata": {},
   "source": [
    "This is too many. Gotta try a different strategy. Maybe more symmetric?"
   ]
  },
  {
   "cell_type": "code",
   "execution_count": 11,
   "metadata": {},
   "outputs": [],
   "source": [
    "extended = np.hstack( (smaller, [[v]]*l)  )"
   ]
  },
  {
   "cell_type": "code",
   "execution_count": 12,
   "metadata": {},
   "outputs": [
    {
     "data": {
      "text/plain": [
       "array([[0, 1, 2],\n",
       "       [0, 3, 4],\n",
       "       [0, 5, 6],\n",
       "       [1, 2, 3],\n",
       "       [1, 4, 5],\n",
       "       [0, 1, 6],\n",
       "       [2, 3, 4],\n",
       "       [2, 5, 6],\n",
       "       [0, 1, 2],\n",
       "       [3, 4, 5],\n",
       "       [0, 3, 6],\n",
       "       [1, 2, 3],\n",
       "       [4, 5, 6],\n",
       "       [0, 1, 4],\n",
       "       [2, 3, 4],\n",
       "       [0, 5, 6],\n",
       "       [1, 2, 5],\n",
       "       [3, 4, 5],\n",
       "       [0, 1, 6],\n",
       "       [2, 3, 6],\n",
       "       [4, 5, 6]])"
      ]
     },
     "execution_count": 12,
     "metadata": {},
     "output_type": "execute_result"
    }
   ],
   "source": [
    "rows = []\n",
    "for  i in range(v):\n",
    "    rows.append(  (extended + i) % v)\n",
    "rows = np.concatenate(rows)\n",
    "rows = np.sort(rows, axis=1)\n",
    "# rows = np.unique(rows, axis=0)\n",
    "rows"
   ]
  },
  {
   "cell_type": "code",
   "execution_count": 13,
   "metadata": {},
   "outputs": [
    {
     "name": "stdout",
     "output_type": "stream",
     "text": [
      "{0, 1} 5\n",
      "{0, 2} 2\n",
      "{0, 3} 2\n",
      "{0, 4} 2\n",
      "{0, 5} 2\n",
      "{0, 6} 5\n",
      "{1, 2} 5\n",
      "{1, 3} 2\n",
      "{1, 4} 2\n",
      "{1, 5} 2\n",
      "{1, 6} 2\n",
      "{2, 3} 5\n",
      "{2, 4} 2\n",
      "{2, 5} 2\n",
      "{2, 6} 2\n",
      "{3, 4} 5\n",
      "{3, 5} 2\n",
      "{3, 6} 2\n",
      "{4, 5} 5\n",
      "{4, 6} 2\n",
      "{5, 6} 5\n",
      "CPU times: user 10.3 ms, sys: 268 µs, total: 10.6 ms\n",
      "Wall time: 7.53 ms\n"
     ]
    }
   ],
   "source": [
    "%%time\n",
    "k = 2\n",
    "sets = [set(i) for i in list(itertools.combinations(range(v), k))]\n",
    "for p in sets:\n",
    "    print(p, sum([len(p.intersection(r)) == k for r in rows]) )"
   ]
  },
  {
   "cell_type": "code",
   "execution_count": 14,
   "metadata": {},
   "outputs": [
    {
     "name": "stdout",
     "output_type": "stream",
     "text": [
      "{0, 1} 5\n",
      "{0, 2} 2\n",
      "{0, 3} 2\n",
      "{0, 4} 2\n",
      "{0, 5} 2\n",
      "{0, 6} 5\n",
      "{1, 2} 5\n",
      "{1, 3} 2\n",
      "{1, 4} 2\n",
      "{1, 5} 2\n",
      "{1, 6} 2\n",
      "{2, 3} 5\n",
      "{2, 4} 2\n",
      "{2, 5} 2\n",
      "{2, 6} 2\n",
      "{3, 4} 5\n",
      "{3, 5} 2\n",
      "{3, 6} 2\n",
      "{4, 5} 5\n",
      "{4, 6} 2\n",
      "{5, 6} 5\n",
      "CPU times: user 15.5 ms, sys: 554 µs, total: 16.1 ms\n",
      "Wall time: 11.4 ms\n"
     ]
    }
   ],
   "source": [
    "%%time\n",
    "k = 2\n",
    "sets = [set(i) for i in list(itertools.combinations(range(v), k))]\n",
    "for p in sets:\n",
    "    print(p, sum([p.issubset(r) for r in rows]) )"
   ]
  },
  {
   "cell_type": "markdown",
   "metadata": {},
   "source": [
    "Ok, so this overshoots, but it does find a cover.\n",
    "\n",
    "# trying 5,6,48"
   ]
  },
  {
   "cell_type": "code",
   "execution_count": 15,
   "metadata": {},
   "outputs": [],
   "source": [
    "# https://ljcr.dmgordon.org/cover/LARGE/C_48_6_5.html\n",
    "with open('s-5-6-48.txt') as f:\n",
    "    s_5_6_48 = f.read()\n",
    "f.close()\n",
    "s_5_6_48 = s_5_6_48.split('\\n')\n",
    "assert len(s_5_6_48) == 285384"
   ]
  },
  {
   "cell_type": "code",
   "execution_count": 16,
   "metadata": {},
   "outputs": [],
   "source": [
    "bigger = np.array([[int(x) for x in line.strip().split()] for line in s_5_6_48 if line != ''])"
   ]
  },
  {
   "cell_type": "code",
   "execution_count": 17,
   "metadata": {},
   "outputs": [
    {
     "data": {
      "text/plain": [
       "285384"
      ]
     },
     "execution_count": 17,
     "metadata": {},
     "output_type": "execute_result"
    }
   ],
   "source": [
    "len(bigger)"
   ]
  },
  {
   "cell_type": "code",
   "execution_count": 18,
   "metadata": {},
   "outputs": [],
   "source": [
    "v = 49\n",
    "l = len(bigger)"
   ]
  },
  {
   "cell_type": "code",
   "execution_count": 19,
   "metadata": {},
   "outputs": [],
   "source": [
    "extended = np.hstack( (bigger, [[v]]*l)  )"
   ]
  },
  {
   "cell_type": "code",
   "execution_count": 20,
   "metadata": {},
   "outputs": [],
   "source": [
    "rows = []\n",
    "for  i in range(v):\n",
    "    rows.append(  (extended + i) % v)\n",
    "rows = np.concatenate(rows)\n",
    "rows = np.sort(rows, axis=1)\n",
    "rows = np.unique(rows, axis=0)"
   ]
  },
  {
   "cell_type": "code",
   "execution_count": 21,
   "metadata": {},
   "outputs": [
    {
     "data": {
      "text/plain": [
       "1997688"
      ]
     },
     "execution_count": 21,
     "metadata": {},
     "output_type": "execute_result"
    }
   ],
   "source": [
    "l*7"
   ]
  },
  {
   "cell_type": "code",
   "execution_count": 22,
   "metadata": {},
   "outputs": [
    {
     "data": {
      "text/plain": [
       "11894701"
      ]
     },
     "execution_count": 22,
     "metadata": {},
     "output_type": "execute_result"
    }
   ],
   "source": [
    "len(rows)"
   ]
  },
  {
   "cell_type": "code",
   "execution_count": 23,
   "metadata": {},
   "outputs": [
    {
     "data": {
      "text/plain": [
       "array([[ 0,  1,  2, ...,  4,  5, 21],\n",
       "       [ 0,  1,  2, ...,  4,  5, 27],\n",
       "       [ 0,  1,  2, ...,  4,  6, 22],\n",
       "       ...,\n",
       "       [40, 41, 42, ..., 45, 46, 48],\n",
       "       [40, 42, 43, ..., 45, 46, 48],\n",
       "       [40, 42, 43, ..., 46, 47, 48]])"
      ]
     },
     "execution_count": 23,
     "metadata": {},
     "output_type": "execute_result"
    }
   ],
   "source": [
    "rows"
   ]
  },
  {
   "cell_type": "code",
   "execution_count": 25,
   "metadata": {},
   "outputs": [],
   "source": [
    "# k = 2\n",
    "# sets = [set(i) for i in list(itertools.combinations(range(v), k))]\n",
    "# for p in sets:\n",
    "#     print(p, sum([len(p.intersection(r)) == k for r in rows]) )"
   ]
  },
  {
   "cell_type": "markdown",
   "metadata": {},
   "source": [
    "## trying something different"
   ]
  },
  {
   "cell_type": "markdown",
   "metadata": {},
   "source": [
    "what about just simplifying the covering?"
   ]
  },
  {
   "cell_type": "code",
   "execution_count": 764,
   "metadata": {},
   "outputs": [],
   "source": [
    "# https://ljcr.dmgordon.org/show_cover.php?v=21&k=7&t=6\n",
    "v = 22\n",
    "with open('c-22-5-4.txt') as f:\n",
    "    data = f.read()\n",
    "f.close()\n",
    "data = data.split('\\n')\n",
    "# assert len(data) == 9218"
   ]
  },
  {
   "cell_type": "code",
   "execution_count": 765,
   "metadata": {},
   "outputs": [],
   "source": [
    "cover = np.array([[int(x) for x in line.strip().split()] for line in data if line != ''])"
   ]
  },
  {
   "cell_type": "code",
   "execution_count": 766,
   "metadata": {},
   "outputs": [],
   "source": [
    "from collections import Counter"
   ]
  },
  {
   "cell_type": "code",
   "execution_count": 767,
   "metadata": {},
   "outputs": [
    {
     "name": "stdout",
     "output_type": "stream",
     "text": [
      "7315\n",
      "0\n",
      "200\n",
      "400\n",
      "600\n",
      "800\n",
      "1000\n",
      "1200\n",
      "1400\n",
      "1600\n",
      "1800\n",
      "2000\n",
      "2200\n",
      "2400\n",
      "2600\n",
      "2800\n",
      "3000\n",
      "3200\n",
      "3400\n",
      "3600\n",
      "3800\n",
      "4000\n",
      "4200\n",
      "4400\n",
      "4600\n",
      "4800\n",
      "5000\n",
      "5200\n",
      "5400\n",
      "5600\n",
      "5800\n",
      "6000\n",
      "6200\n",
      "6400\n",
      "6600\n",
      "6800\n",
      "7000\n",
      "7200\n",
      "CPU times: user 14.5 s, sys: 3.98 ms, total: 14.5 s\n",
      "Wall time: 14.5 s\n"
     ]
    }
   ],
   "source": [
    "%%time\n",
    "c = Counter()\n",
    "d = {}\n",
    "k = 4\n",
    "sets = [set(i) for i in list(itertools.combinations(range(1, v+1), k))]\n",
    "print(len(sets))\n",
    "for idx, p in enumerate(sets):\n",
    "    if idx % 200 == 0:\n",
    "        print(idx)\n",
    "    ct = sum([p.issubset(r) for r in cover])\n",
    "    c[ct] += 1\n",
    "    if ct not in d:\n",
    "        d[ct] = []\n",
    "    d[ct].append(p)\n",
    "#     print(p,  ct)"
   ]
  },
  {
   "cell_type": "code",
   "execution_count": 768,
   "metadata": {},
   "outputs": [],
   "source": [
    "import matplotlib.pyplot as plt"
   ]
  },
  {
   "cell_type": "code",
   "execution_count": 769,
   "metadata": {},
   "outputs": [
    {
     "data": {
      "text/plain": [
       "<BarContainer object of 4 artists>"
      ]
     },
     "execution_count": 769,
     "metadata": {},
     "output_type": "execute_result"
    },
    {
     "data": {
      "image/png": "[encoded data removed]",
      "text/plain": [
       "<Figure size 432x288 with 1 Axes>"
      ]
     },
     "metadata": {
      "needs_background": "light"
     },
     "output_type": "display_data"
    }
   ],
   "source": [
    "plt.bar(c.keys(), c.values())"
   ]
  },
  {
   "cell_type": "code",
   "execution_count": 770,
   "metadata": {},
   "outputs": [],
   "source": [
    "# %%time\n",
    "# c = Counter()\n",
    "# d = {}\n",
    "# t = 4\n",
    "# sets = [set(i) for i in list(itertools.combinations(range(1, v+1), t))]\n",
    "# print(len(sets))\n",
    "# for idx, p in enumerate(sets):\n",
    "#     if idx % 1000 == 0:\n",
    "#         print(idx)\n",
    "#     ct = sum([p.issubset(r) for r in cover])\n",
    "#     c[ct] += 1\n",
    "#     if ct not in d:\n",
    "#         d[ct] = []\n",
    "#     d[ct].append(p)\n",
    "# #     print(p,  ct)"
   ]
  },
  {
   "cell_type": "code",
   "execution_count": 771,
   "metadata": {},
   "outputs": [
    {
     "data": {
      "text/plain": [
       "<BarContainer object of 4 artists>"
      ]
     },
     "execution_count": 771,
     "metadata": {},
     "output_type": "execute_result"
    },
    {
     "data": {
      "image/png": "[encoded data removed]",
      "text/plain": [
       "<Figure size 432x288 with 1 Axes>"
      ]
     },
     "metadata": {
      "needs_background": "light"
     },
     "output_type": "display_data"
    }
   ],
   "source": [
    "plt.bar(c.keys(), c.values())"
   ]
  },
  {
   "cell_type": "code",
   "execution_count": 772,
   "metadata": {},
   "outputs": [],
   "source": [
    "e = d.copy()"
   ]
  },
  {
   "cell_type": "code",
   "execution_count": 773,
   "metadata": {},
   "outputs": [],
   "source": [
    "del e[1]"
   ]
  },
  {
   "cell_type": "code",
   "execution_count": 774,
   "metadata": {},
   "outputs": [
    {
     "data": {
      "text/plain": [
       "<BarContainer object of 3 artists>"
      ]
     },
     "execution_count": 774,
     "metadata": {},
     "output_type": "execute_result"
    },
    {
     "data": {
      "image/png": "[encoded data removed]",
      "text/plain": [
       "<Figure size 432x288 with 1 Axes>"
      ]
     },
     "metadata": {
      "needs_background": "light"
     },
     "output_type": "display_data"
    }
   ],
   "source": [
    "plt.bar(e.keys(), [len(x) for x in e.values()])"
   ]
  },
  {
   "cell_type": "code",
   "execution_count": 775,
   "metadata": {},
   "outputs": [
    {
     "data": {
      "text/plain": [
       "dict_keys([6, 5, 2])"
      ]
     },
     "execution_count": 775,
     "metadata": {},
     "output_type": "execute_result"
    }
   ],
   "source": [
    "e.keys()"
   ]
  },
  {
   "cell_type": "code",
   "execution_count": 776,
   "metadata": {},
   "outputs": [
    {
     "data": {
      "text/plain": [
       "[{1, 2, 3, 10},\n",
       " {1, 4, 8, 10},\n",
       " {1, 5, 9, 10},\n",
       " {1, 6, 7, 10},\n",
       " {2, 4, 9, 10},\n",
       " {2, 5, 7, 10},\n",
       " {2, 6, 8, 10},\n",
       " {3, 4, 7, 10},\n",
       " {3, 5, 8, 10},\n",
       " {3, 6, 9, 10},\n",
       " {4, 5, 6, 10},\n",
       " {7, 8, 9, 10}]"
      ]
     },
     "execution_count": 776,
     "metadata": {},
     "output_type": "execute_result"
    }
   ],
   "source": [
    "d[6]"
   ]
  },
  {
   "cell_type": "code",
   "execution_count": 779,
   "metadata": {},
   "outputs": [
    {
     "data": {
      "text/plain": [
       "[array([ 1,  2,  4,  5, 11]),\n",
       " array([ 1,  2,  4,  5, 12]),\n",
       " array([ 1,  2,  4,  5, 14]),\n",
       " array([ 1,  2,  4,  5, 15]),\n",
       " array([ 1,  2,  4,  5, 20])]"
      ]
     },
     "execution_count": 779,
     "metadata": {},
     "output_type": "execute_result"
    }
   ],
   "source": [
    "[s for s in cover if set(d[5][0]).issubset(s)]"
   ]
  },
  {
   "cell_type": "markdown",
   "metadata": {},
   "source": [
    "Method 2:"
   ]
  },
  {
   "cell_type": "code",
   "execution_count": 780,
   "metadata": {},
   "outputs": [],
   "source": [
    "lst = []\n",
    "for x in e:\n",
    "    lst += e[x]"
   ]
  },
  {
   "cell_type": "code",
   "execution_count": 781,
   "metadata": {},
   "outputs": [
    {
     "name": "stdout",
     "output_type": "stream",
     "text": [
      "1540\n",
      "0\n",
      "1000\n",
      "CPU times: user 92 ms, sys: 4.02 ms, total: 96 ms\n",
      "Wall time: 94.4 ms\n"
     ]
    }
   ],
   "source": [
    "%%time\n",
    "c2 = Counter()\n",
    "d2 = {}\n",
    "t = 3\n",
    "sets = [set(i) for i in list(itertools.combinations(range(1, v+1), t))]\n",
    "print(len(sets))\n",
    "for idx, p in enumerate(sets):\n",
    "    if idx % 1000 == 0:\n",
    "        print(idx)\n",
    "    ct = sum([p.issubset(r) for r in lst])\n",
    "    c2[ct] += 1\n",
    "    if ct not in d2:\n",
    "        d2[ct] = []\n",
    "    d2[ct].append(p)\n",
    "#     print(p,  ct)"
   ]
  },
  {
   "cell_type": "code",
   "execution_count": 782,
   "metadata": {},
   "outputs": [
    {
     "data": {
      "text/plain": [
       "<BarContainer object of 3 artists>"
      ]
     },
     "execution_count": 782,
     "metadata": {},
     "output_type": "execute_result"
    },
    {
     "data": {
      "image/png": "[encoded data removed]",
      "text/plain": [
       "<Figure size 432x288 with 1 Axes>"
      ]
     },
     "metadata": {
      "needs_background": "light"
     },
     "output_type": "display_data"
    }
   ],
   "source": [
    "plt.bar(c2.keys(),c2.values())"
   ]
  },
  {
   "cell_type": "code",
   "execution_count": 783,
   "metadata": {},
   "outputs": [
    {
     "data": {
      "text/plain": [
       "Counter({1: 1378, 2: 72, 3: 90})"
      ]
     },
     "execution_count": 783,
     "metadata": {},
     "output_type": "execute_result"
    }
   ],
   "source": [
    "c2"
   ]
  },
  {
   "cell_type": "code",
   "execution_count": 784,
   "metadata": {},
   "outputs": [
    {
     "data": {
      "text/plain": [
       "[1, 2, 3]"
      ]
     },
     "execution_count": 784,
     "metadata": {},
     "output_type": "execute_result"
    }
   ],
   "source": [
    "sorted(c2.keys())[-5:]"
   ]
  },
  {
   "cell_type": "markdown",
   "metadata": {},
   "source": [
    "trying for all of them..."
   ]
  },
  {
   "cell_type": "code",
   "execution_count": 785,
   "metadata": {},
   "outputs": [
    {
     "name": "stdout",
     "output_type": "stream",
     "text": [
      "1573\n",
      "0\n",
      "100\n",
      "200\n",
      "300\n",
      "400\n",
      "500\n",
      "600\n",
      "700\n",
      "800\n",
      "900\n",
      "1000\n",
      "1100\n",
      "1200\n",
      "1300\n",
      "1400\n",
      "1500\n"
     ]
    }
   ],
   "source": [
    "outs = []\n",
    "print(len(cover))\n",
    "for idx, testval in enumerate(cover):\n",
    "    if idx % 100 == 0:\n",
    "        print(idx)\n",
    "    testval = list(testval)\n",
    "    vals = []\n",
    "    for i in range(len(testval)):\n",
    "        matches = [set(s) for s in cover if (set(testval[:i] + testval[i+1:]).issubset(s))]\n",
    "        vals.append(len(matches))\n",
    "    outs.append(vals)"
   ]
  },
  {
   "cell_type": "code",
   "execution_count": 787,
   "metadata": {},
   "outputs": [
    {
     "data": {
      "text/plain": [
       "(array([  2.,   0.,  28.,   0.,   0.,  60.,   0., 786.,   0., 697.]),\n",
       " array([1. , 1.4, 1.8, 2.2, 2.6, 3. , 3.4, 3.8, 4.2, 4.6, 5. ]),\n",
       " <a list of 10 Patch objects>)"
      ]
     },
     "execution_count": 787,
     "metadata": {},
     "output_type": "execute_result"
    },
    {
     "data": {
      "image/png": "[encoded data removed]",
      "text/plain": [
       "<Figure size 432x288 with 1 Axes>"
      ]
     },
     "metadata": {
      "needs_background": "light"
     },
     "output_type": "display_data"
    }
   ],
   "source": [
    "plt.hist([o.count(1) for o in outs])"
   ]
  },
  {
   "cell_type": "code",
   "execution_count": 788,
   "metadata": {},
   "outputs": [],
   "source": [
    "# where there are only 2 or 3 \"1s\""
   ]
  },
  {
   "cell_type": "code",
   "execution_count": 789,
   "metadata": {},
   "outputs": [
    {
     "data": {
      "text/plain": [
       "array([[14, 18, 20, 21, 22],\n",
       "       [14, 19, 20, 21, 22]])"
      ]
     },
     "execution_count": 789,
     "metadata": {},
     "output_type": "execute_result"
    }
   ],
   "source": [
    "cover[ np.array(list(range(len(outs))))[np.array([o.count(1) for o in outs]) == 1] ]"
   ]
  },
  {
   "cell_type": "code",
   "execution_count": 813,
   "metadata": {},
   "outputs": [
    {
     "name": "stdout",
     "output_type": "stream",
     "text": [
      "[11,15,19,20,22],\n",
      "[15, 19, 20, 22]\n",
      "[11, 19, 20, 22]\n",
      "[11, 15, 19, 22]\n",
      "[12,14,19,20,22],\n",
      "[12, 19, 20, 22]\n",
      "[12, 14, 20, 22]\n",
      "[12, 14, 19, 22]\n",
      "[14,19,20,21,22],\n",
      "[19, 20, 21, 22]\n"
     ]
    }
   ],
   "source": [
    "# loose groupings\n",
    "todo = cover[ np.array(list(range(len(outs))))[np.array([o.count(1) for o in outs]) <= 3]]\n",
    "for testval in todo:\n",
    "    if set({19, 20, 22}).issubset(testval):\n",
    "        print('[' + ','.join([str(i) for i in testval]) + '],')\n",
    "        testval = list(testval)\n",
    "        for i in range(len(testval)):\n",
    "            concat = testval[:i] + testval[i+1:]\n",
    "            matches = [set(s) for s in cover if (set(concat).issubset(s))]\n",
    "            if len(matches) == 1:\n",
    "                print(concat)"
   ]
  },
  {
   "cell_type": "raw",
   "metadata": {},
   "source": [
    "1,4,6,10,11,13,15\n",
    "[1, 6, 10, 11, 13, 15]\n",
    "1,4,8,10,11,13,15\n",
    "[1, 8, 10, 11, 13, 15]"
   ]
  },
  {
   "cell_type": "code",
   "execution_count": 792,
   "metadata": {},
   "outputs": [],
   "source": [
    "to_remove = [\n",
    "[14,18,20,21,22],\n",
    "    [14,19,20,21,22],\n",
    "]"
   ]
  },
  {
   "cell_type": "code",
   "execution_count": 793,
   "metadata": {},
   "outputs": [
    {
     "name": "stdout",
     "output_type": "stream",
     "text": [
      "trying: [14, 18, 20, 21, 22]\n",
      "[18, 20, 21, 22]\n",
      "trying: [14, 19, 20, 21, 22]\n",
      "[19, 20, 21, 22]\n"
     ]
    }
   ],
   "source": [
    "# loose groupings\n",
    "for testval in to_remove:\n",
    "    print('trying:', testval)\n",
    "    testval = list(testval)\n",
    "    for i in range(len(testval)):\n",
    "        matches = [set(s) for s in cover if (set(testval[:i] + testval[i+1:]).issubset(s))]\n",
    "        if len(matches) == 1:\n",
    "            print(testval[:i] + testval[i+1:])"
   ]
  },
  {
   "cell_type": "markdown",
   "metadata": {},
   "source": [
    "ah, but removing many of them might remove double / triple covers..."
   ]
  },
  {
   "cell_type": "code",
   "execution_count": 794,
   "metadata": {},
   "outputs": [
    {
     "data": {
      "text/plain": [
       "1573"
      ]
     },
     "execution_count": 794,
     "metadata": {},
     "output_type": "execute_result"
    }
   ],
   "source": [
    "newcover = cover.copy()\n",
    "len(newcover)"
   ]
  },
  {
   "cell_type": "code",
   "execution_count": 795,
   "metadata": {},
   "outputs": [
    {
     "name": "stdout",
     "output_type": "stream",
     "text": [
      "1565\n",
      "1565\n"
     ]
    }
   ],
   "source": [
    "for old in to_remove:\n",
    "    assert 1 == sum(np.all(newcover == old, axis=1))\n",
    "    idx = np.array(list(range(len(newcover))))[np.all(newcover == old, axis=1)][0]\n",
    "    print(idx)\n",
    "    newcover = np.delete(newcover, idx, 0)"
   ]
  },
  {
   "cell_type": "code",
   "execution_count": 796,
   "metadata": {},
   "outputs": [],
   "source": [
    "# to_add = [\n",
    "#     [1,3,6,8,10,4,13,15,16],\n",
    "#     [3,6,8,10,11,4,13,15,16]\n",
    "# ]\n",
    "# newcover = np.concatenate((newcover, to_add))"
   ]
  },
  {
   "cell_type": "code",
   "execution_count": 797,
   "metadata": {},
   "outputs": [
    {
     "data": {
      "text/plain": [
       "1571"
      ]
     },
     "execution_count": 797,
     "metadata": {},
     "output_type": "execute_result"
    }
   ],
   "source": [
    "len(newcover)"
   ]
  },
  {
   "cell_type": "code",
   "execution_count": 801,
   "metadata": {},
   "outputs": [
    {
     "name": "stdout",
     "output_type": "stream",
     "text": [
      "7315\n",
      "0\n",
      "1000\n",
      "2000\n",
      "3000\n",
      "4000\n",
      "5000\n",
      "6000\n",
      "7000\n",
      "CPU times: user 14 s, sys: 12 ms, total: 14 s\n",
      "Wall time: 14 s\n"
     ]
    }
   ],
   "source": [
    "%%time\n",
    "c = Counter()\n",
    "d = {}\n",
    "t = 4\n",
    "sets = [set(i) for i in list(itertools.combinations(range(1, v+1), t))]\n",
    "print(len(sets))\n",
    "for idx, p in enumerate(sets):\n",
    "    if idx % 1000 == 0:\n",
    "        print(idx)\n",
    "    ct = sum([p.issubset(r) for r in newcover])\n",
    "    c[ct] += 1\n",
    "    if ct not in d:\n",
    "        d[ct] = []\n",
    "    d[ct].append(p)\n",
    "#     print(p,  ct)"
   ]
  },
  {
   "cell_type": "code",
   "execution_count": 802,
   "metadata": {},
   "outputs": [
    {
     "data": {
      "text/plain": [
       "<BarContainer object of 5 artists>"
      ]
     },
     "execution_count": 802,
     "metadata": {},
     "output_type": "execute_result"
    },
    {
     "data": {
      "image/png": "[encoded data removed]",
      "text/plain": [
       "<Figure size 432x288 with 1 Axes>"
      ]
     },
     "metadata": {
      "needs_background": "light"
     },
     "output_type": "display_data"
    }
   ],
   "source": [
    "plt.bar(c.keys(), c.values())"
   ]
  },
  {
   "cell_type": "code",
   "execution_count": 803,
   "metadata": {},
   "outputs": [
    {
     "data": {
      "text/plain": [
       "3"
      ]
     },
     "execution_count": 803,
     "metadata": {},
     "output_type": "execute_result"
    }
   ],
   "source": [
    "c[0]"
   ]
  },
  {
   "cell_type": "code",
   "execution_count": 804,
   "metadata": {},
   "outputs": [
    {
     "data": {
      "text/plain": [
       "[{14, 20, 21, 22}, {18, 20, 21, 22}, {19, 20, 21, 22}]"
      ]
     },
     "execution_count": 804,
     "metadata": {},
     "output_type": "execute_result"
    }
   ],
   "source": [
    "d[0]"
   ]
  },
  {
   "cell_type": "code",
   "execution_count": null,
   "metadata": {},
   "outputs": [],
   "source": []
  },
  {
   "cell_type": "code",
   "execution_count": null,
   "metadata": {},
   "outputs": [],
   "source": []
  },
  {
   "cell_type": "code",
   "execution_count": null,
   "metadata": {},
   "outputs": [],
   "source": []
  },
  {
   "cell_type": "code",
   "execution_count": null,
   "metadata": {},
   "outputs": [],
   "source": []
  },
  {
   "cell_type": "markdown",
   "metadata": {},
   "source": [
    "another strategy:"
   ]
  },
  {
   "cell_type": "code",
   "execution_count": 280,
   "metadata": {},
   "outputs": [
    {
     "name": "stdout",
     "output_type": "stream",
     "text": [
      "trying: {1, 2, 3, 4, 5, 6, 14}\n",
      "[1, 3, 4, 5, 6, 14]\n",
      "[1, 2, 3, 5, 6, 14]\n",
      "[1, 2, 3, 4, 6, 14]\n",
      "trying: {1, 2, 3, 4, 5, 11, 14}\n",
      "[1, 3, 4, 5, 11, 14]\n",
      "[1, 2, 3, 5, 11, 14]\n",
      "[1, 2, 3, 4, 11, 14]\n",
      "trying: {2, 3, 4, 5, 6, 8, 14}\n",
      "[2, 3, 4, 5, 8, 14]\n",
      "[2, 3, 4, 5, 6, 8]\n",
      "trying: {2, 3, 4, 5, 7, 11, 14}\n",
      "[3, 4, 5, 7, 11, 14]\n",
      "[2, 4, 5, 7, 11, 14]\n",
      "[2, 3, 5, 7, 11, 14]\n",
      "[2, 3, 4, 7, 11, 14]\n",
      "[2, 3, 4, 5, 7, 14]\n",
      "[2, 3, 4, 5, 7, 11]\n",
      "trying: {2, 3, 4, 5, 9, 11, 14}\n",
      "[3, 4, 5, 9, 11, 14]\n",
      "[2, 4, 5, 9, 11, 14]\n",
      "[2, 3, 5, 9, 11, 14]\n",
      "[2, 3, 4, 9, 11, 14]\n",
      "[2, 3, 4, 5, 9, 14]\n",
      "[2, 3, 4, 5, 9, 11]\n",
      "trying: {2, 3, 4, 5, 10, 11, 14}\n",
      "[3, 4, 5, 10, 11, 14]\n",
      "[2, 4, 5, 10, 11, 14]\n",
      "[2, 3, 5, 10, 11, 14]\n",
      "[2, 3, 4, 10, 11, 14]\n",
      "[2, 3, 4, 5, 10, 14]\n",
      "[2, 3, 4, 5, 10, 11]\n",
      "trying: {2, 3, 4, 5, 11, 12, 14}\n",
      "[3, 4, 5, 11, 12, 14]\n",
      "[2, 4, 5, 11, 12, 14]\n",
      "[2, 3, 5, 11, 12, 14]\n",
      "[2, 3, 4, 11, 12, 14]\n",
      "[2, 3, 4, 5, 12, 14]\n",
      "[2, 3, 4, 5, 11, 12]\n",
      "trying: {2, 3, 4, 5, 11, 13, 14}\n",
      "[3, 4, 5, 11, 13, 14]\n",
      "[2, 4, 5, 11, 13, 14]\n",
      "[2, 3, 5, 11, 13, 14]\n",
      "[2, 3, 4, 11, 13, 14]\n",
      "[2, 3, 4, 5, 13, 14]\n",
      "[2, 3, 4, 5, 11, 13]\n",
      "trying: {2, 3, 4, 5, 11, 14, 15}\n",
      "[3, 4, 5, 11, 14, 15]\n",
      "[2, 4, 5, 11, 14, 15]\n",
      "[2, 3, 5, 11, 14, 15]\n",
      "[2, 3, 4, 11, 14, 15]\n",
      "[2, 3, 4, 5, 14, 15]\n",
      "[2, 3, 4, 5, 11, 15]\n"
     ]
    }
   ],
   "source": [
    "# related groupings\n",
    "todo = [set(s) for s in cover if (set([2, 3, 4, 5, 14]).issubset(s))]\n",
    "for testval in todo:\n",
    "    print('trying:', testval)\n",
    "    testval = list(testval)\n",
    "    for i in range(len(testval)):\n",
    "        matches = [set(s) for s in cover if (set(testval[:i] + testval[i+1:]).issubset(s))]\n",
    "        if len(matches) == 1:\n",
    "            print(testval[:i] + testval[i+1:])"
   ]
  },
  {
   "cell_type": "code",
   "execution_count": null,
   "metadata": {},
   "outputs": [],
   "source": [
    "1,2,6,11,17,20"
   ]
  },
  {
   "cell_type": "code",
   "execution_count": 139,
   "metadata": {},
   "outputs": [
    {
     "data": {
      "text/plain": [
       "[[3, 9, 10, 15, 16, 18, 19],\n",
       " [5, 9, 10, 15, 16, 18, 19],\n",
       " [6, 9, 10, 15, 16, 18, 19],\n",
       " [7, 9, 10, 15, 16, 18, 19],\n",
       " [9, 10, 13, 15, 16, 18, 19]]"
      ]
     },
     "execution_count": 139,
     "metadata": {},
     "output_type": "execute_result"
    }
   ],
   "source": [
    "sorted([list(s) for s in cover if set({9, 10, 15, 16, 18, 19}).issubset(s)])"
   ]
  },
  {
   "cell_type": "code",
   "execution_count": null,
   "metadata": {},
   "outputs": [],
   "source": []
  }
 ],
 "metadata": {
  "kernelspec": {
   "display_name": "Python 3",
   "language": "python",
   "name": "python3"
  },
  "language_info": {
   "codemirror_mode": {
    "name": "ipython",
    "version": 3
   },
   "file_extension": ".py",
   "mimetype": "text/x-python",
   "name": "python",
   "nbconvert_exporter": "python",
   "pygments_lexer": "ipython3",
   "version": "3.7.4"
  }
 },
 "nbformat": 4,
 "nbformat_minor": 4
}
